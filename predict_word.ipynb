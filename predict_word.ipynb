{
 "cells": [
  {
   "cell_type": "code",
   "execution_count": 1,
   "id": "e543d205",
   "metadata": {},
   "outputs": [],
   "source": [
    "from collections import Counter\n",
    "from itertools import product\n",
    "import numpy as np\n",
    "import pandas as pd\n",
    "import pickle\n",
    "import re\n",
    "from scipy import spatial"
   ]
  },
  {
   "cell_type": "code",
   "execution_count": 2,
   "id": "9dbbf6aa",
   "metadata": {},
   "outputs": [
    {
     "data": {
      "text/plain": [
       "['MMMMM', 'MMMMN', 'MMMMY', 'MMMNM', 'MMMNN']"
      ]
     },
     "execution_count": 2,
     "metadata": {},
     "output_type": "execute_result"
    }
   ],
   "source": [
    "vec_locs = sorted([\"\".join(x) for x in product(\"YMN\", repeat=5)])\n",
    "vec_locs[:5]"
   ]
  },
  {
   "cell_type": "code",
   "execution_count": 3,
   "id": "5d483c16",
   "metadata": {},
   "outputs": [],
   "source": [
    "# Extract the Wordle result from a tweet, and remap the unicode feedback to Y/M/N\n",
    "def wordle_guesses(tweet):\n",
    "    text = (tweet.replace(\"Y\", \"y\").replace(\"🟩\", \"Y\")\n",
    "                 .replace(\"M\", \"m\").replace(\"🟨\", \"M\")\n",
    "                 .replace(\"N\", \"n\").replace(\"⬛\", \"N\").replace(\"⬜\", \"N\"))\n",
    "    guesses = re.findall(\"([YMN]+)\", text)\n",
    "    return guesses\n",
    "\n",
    "def evaluate_guess_char(answer, guess, pos):\n",
    "    if answer[pos]==guess[pos]:\n",
    "        return \"Y\"\n",
    "    unmatched_answer_chars = 0\n",
    "    unmatched_guess_chars = 0\n",
    "    this_guess_num = 0 \n",
    "    for i in range(5):\n",
    "        if answer[i]==guess[pos]:\n",
    "            if answer[i]!=guess[i]:\n",
    "                unmatched_answer_chars += 1\n",
    "        if guess[i]==guess[pos]:\n",
    "            if answer[i]!=guess[i]:\n",
    "                unmatched_guess_chars += 1\n",
    "                if i<pos:\n",
    "                    this_guess_num += 1\n",
    "    if this_guess_num<unmatched_answer_chars:\n",
    "        return \"M\"\n",
    "    return \"N\"\n",
    "\n",
    "def evaluate_guess(answer, guess):\n",
    "    return \"\".join(evaluate_guess_char(answer, guess, i) for i in range(5))\n",
    "\n",
    "assert evaluate_guess(\"tools\", \"break\")==\"NNNNN\"\n",
    "assert evaluate_guess(\"tools\", \"tools\")==\"YYYYY\"\n",
    "assert evaluate_guess(\"tools\", \"tolls\")==\"YYNYY\"\n",
    "assert evaluate_guess(\"tools\", \"books\")==\"NYYNY\"\n",
    "assert evaluate_guess(\"tools\", \"broke\")==\"NNYNN\"\n",
    "assert evaluate_guess(\"tools\", \"yahoo\")==\"NNNMM\"\n",
    "assert evaluate_guess(\"tools\", \"bongo\")==\"NYNNM\"\n",
    "assert evaluate_guess(\"tools\", \"brook\")==\"NNYMN\"\n",
    "assert evaluate_guess(\"rates\", \"ranks\")==\"YYNNY\"\n",
    "assert evaluate_guess(\"rates\", \"apple\")==\"MNNNM\""
   ]
  },
  {
   "cell_type": "code",
   "execution_count": null,
   "id": "6814705e",
   "metadata": {},
   "outputs": [],
   "source": [
    "with open(\"../input/wordle-simulations/vec_all.pickle\", \"rb\") as f:\n",
    "    v_all = pickle.load(f)\n",
    "\n",
    "with open(\"../input/wordle-simulations/vec_ratio.pickle\", \"rb\") as f:\n",
    "    v_ratio = pickle.load(f)\n",
    "\n",
    "with open(\"../input/wordle-simulations/invalid_results.pickle\", \"rb\") as f:\n",
    "    invalid_results = pickle.load(f)\n",
    "    \n",
    "with open(\"../input/wordle-simulations/answers.txt\", \"r\") as f:\n",
    "    answers = f.read().split(\"\\n\")\n",
    "\n",
    "with open(\"../input/wordle-simulations/other_words.txt\", \"r\") as f:\n",
    "    other_words = f.read().split(\"\\n\")\n",
    "\n",
    "words = answers + other_words\n",
    "for answer in [\"agora\", \"pupal\", \"lynch\", \"harry\", \"fibre\", \"slave\", \"hasty\", \"fella\"]: # NYTimes version skipped these\n",
    "    answers.remove(answer)\n",
    "    \n",
    "# NYTimes version replaced these\n",
    "answers[324] = \"shiny\"\n",
    "answers[325] = \"gecko\""
   ]
  }
 ],
 "metadata": {
  "kernelspec": {
   "display_name": "Python 3 (ipykernel)",
   "language": "python",
   "name": "python3"
  },
  "language_info": {
   "codemirror_mode": {
    "name": "ipython",
    "version": 3
   },
   "file_extension": ".py",
   "mimetype": "text/x-python",
   "name": "python",
   "nbconvert_exporter": "python",
   "pygments_lexer": "ipython3",
   "version": "3.9.13"
  }
 },
 "nbformat": 4,
 "nbformat_minor": 5
}

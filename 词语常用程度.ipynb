{
 "cells": [
  {
   "cell_type": "code",
   "execution_count": 1,
   "id": "d316487b",
   "metadata": {},
   "outputs": [],
   "source": [
    "# 导入相关库\n",
    "import numpy as np\n",
    "import random as rnd\n",
    "import pandas as pd\n",
    "\n",
    "import pylab\n",
    "import matplotlib.pyplot as plt\n",
    "import seaborn as sns\n",
    "%matplotlib inline\n",
    "\n",
    "import math as mt\n",
    "from math import sqrt\n",
    "import os\n",
    "import re\n",
    "import warnings\n",
    "warnings.filterwarnings('ignore')\n"
   ]
  },
  {
   "cell_type": "code",
   "execution_count": 2,
   "id": "9de8eb7f",
   "metadata": {},
   "outputs": [
    {
     "name": "stdout",
     "output_type": "stream",
     "text": [
      "  word        count\n",
      "0  the  23135851162\n",
      "1   of  13151942776\n",
      "2  and  12997637966\n",
      "3   to  12136980858\n",
      "4    a   9081174698\n"
     ]
    }
   ],
   "source": [
    "# 加载数据集\n",
    "pre_data = pd.read_csv('unigram_freq.csv')\n",
    "data = pd.DataFrame(pre_data) # 需要进行处理的数据集\n",
    "print(data.head())"
   ]
  },
  {
   "cell_type": "code",
   "execution_count": 3,
   "id": "9bf922df",
   "metadata": {},
   "outputs": [],
   "source": [
    "Word = []\n",
    "Count = []\n",
    "total = 0\n",
    "\n",
    "for index,item in data.iterrows():\n",
    "    if len(item['word'])==5:\n",
    "        Word.append(item['word'])\n",
    "        Count.append(item['count'])\n",
    "        total += item['count']\n",
    "\n",
    "Frequency = [x/total for x in Count]\n",
    "data = {'Word':Word, 'Frequency':Frequency}\n",
    "\n",
    "new_data = pd.DataFrame(data)\n",
    "new_data.to_csv('word_frequency.csv',index=False)"
   ]
  },
  {
   "cell_type": "code",
   "execution_count": 4,
   "id": "04e9cdce",
   "metadata": {},
   "outputs": [],
   "source": [
    "dt = dict(zip(Word,Frequency))\n",
    "word_data = pd.read_csv('word_data.csv')\n",
    "Frequency = []\n",
    "for index,item in word_data.iterrows():\n",
    "    if item['Word'] in dt:\n",
    "        Frequency.append(dt[item['Word']])\n",
    "    else:\n",
    "        Frequency.append(0)\n",
    "word_data['Word_frequency'] = Frequency\n",
    "word_data.head()\n",
    "word_data.to_csv('word_with_frequency.csv')"
   ]
  },
  {
   "cell_type": "code",
   "execution_count": null,
   "id": "cdbf6534",
   "metadata": {},
   "outputs": [],
   "source": []
  }
 ],
 "metadata": {
  "kernelspec": {
   "display_name": "Python 3 (ipykernel)",
   "language": "python",
   "name": "python3"
  },
  "language_info": {
   "codemirror_mode": {
    "name": "ipython",
    "version": 3
   },
   "file_extension": ".py",
   "mimetype": "text/x-python",
   "name": "python",
   "nbconvert_exporter": "python",
   "pygments_lexer": "ipython3",
   "version": "3.9.13"
  }
 },
 "nbformat": 4,
 "nbformat_minor": 5
}
